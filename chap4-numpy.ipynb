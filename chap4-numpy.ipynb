{
 "cells": [
  {
   "cell_type": "markdown",
   "metadata": {},
   "source": [
    "这里主要讲述基础的NumPy用法，集中在如下几个方面：  \n",
    "1. 数组的向量化运算，主要针对数据清洗，转换和过滤等操作；  \n",
    "1. 诸如排序，唯一性，集合等针对数组的操作；  \n",
    "1. 针对数据描述性或者聚合类操作；  \n",
    "1. 数据的merge和join等操作；  \n",
    "1. 数组中的条件逻辑语句，而不是使用诸如`if-elif-else`语句；  \n",
    "1. 更丰富的函数功能，尤其针对数据处理而言。"
   ]
  },
  {
   "cell_type": "markdown",
   "metadata": {},
   "source": [
    "### 1. 创建新的ndarray"
   ]
  },
  {
   "cell_type": "code",
   "execution_count": 3,
   "metadata": {
    "collapsed": false
   },
   "outputs": [
    {
     "data": {
      "text/plain": [
       "array([ 6. ,  7.5,  8. ,  0. ,  1. ])"
      ]
     },
     "execution_count": 3,
     "metadata": {},
     "output_type": "execute_result"
    }
   ],
   "source": [
    "# 1. 使用array()函数\n",
    "data1 = [6, 7.5, 8, 0, 1]\n",
    "\n",
    "import numpy as np\n",
    "arr1 = np.array(data1)\n",
    "arr1"
   ]
  },
  {
   "cell_type": "markdown",
   "metadata": {},
   "source": [
    "如果传入一个长度相同的内嵌序列，诸如list，那么会自动转换成multi-dimensional array："
   ]
  },
  {
   "cell_type": "code",
   "execution_count": 4,
   "metadata": {
    "collapsed": false
   },
   "outputs": [
    {
     "data": {
      "text/plain": [
       "array([[1, 2, 3, 4],\n",
       "       [5, 6, 7, 8]])"
      ]
     },
     "execution_count": 4,
     "metadata": {},
     "output_type": "execute_result"
    }
   ],
   "source": [
    "data2 = [[1, 2, 3, 4], [5, 6, 7, 8]]\n",
    "arr2 = np.array(data2)\n",
    "arr2"
   ]
  },
  {
   "cell_type": "markdown",
   "metadata": {},
   "source": [
    "其他方式诸如使用`zeros(), ones(), empty(), eye(), identity()`等函数创建"
   ]
  },
  {
   "cell_type": "markdown",
   "metadata": {},
   "source": [
    "使用`np.arange()`，功能类似python自带的`range()`，但是返回一个ndarray，而不是一个list。"
   ]
  },
  {
   "cell_type": "code",
   "execution_count": 11,
   "metadata": {
    "collapsed": false
   },
   "outputs": [
    {
     "name": "stdout",
     "output_type": "stream",
     "text": [
      "<type 'numpy.ndarray'>\n",
      "<type 'list'>\n"
     ]
    }
   ],
   "source": [
    "# this is an array\n",
    "arr3 = np.arange(5)\n",
    "print type(arr3)\n",
    "# this is a list\n",
    "lst = range(5)\n",
    "print type(lst)"
   ]
  },
  {
   "cell_type": "markdown",
   "metadata": {},
   "source": [
    "### 2. indexing"
   ]
  },
  {
   "cell_type": "markdown",
   "metadata": {},
   "source": [
    "重点介绍`fancy indexing`，说白了就是用一个数组作为index去获取另一个数组对应的元素。比如："
   ]
  },
  {
   "cell_type": "code",
   "execution_count": 14,
   "metadata": {
    "collapsed": false
   },
   "outputs": [
    {
     "data": {
      "text/plain": [
       "array([[ 0.,  0.],\n",
       "       [ 1.,  1.],\n",
       "       [ 2.,  2.],\n",
       "       [ 3.,  3.]])"
      ]
     },
     "execution_count": 14,
     "metadata": {},
     "output_type": "execute_result"
    }
   ],
   "source": [
    "## case 1\n",
    "arr = np.empty((4,2))\n",
    "for i in range(4):\n",
    "    arr[i] = i\n",
    "arr"
   ]
  },
  {
   "cell_type": "code",
   "execution_count": 15,
   "metadata": {
    "collapsed": false
   },
   "outputs": [
    {
     "data": {
      "text/plain": [
       "array([[ 0.,  0.],\n",
       "       [ 2.,  2.]])"
      ]
     },
     "execution_count": 15,
     "metadata": {},
     "output_type": "execute_result"
    }
   ],
   "source": [
    "arr[[0, 2]]"
   ]
  },
  {
   "cell_type": "code",
   "execution_count": 16,
   "metadata": {
    "collapsed": false
   },
   "outputs": [
    {
     "data": {
      "text/plain": [
       "array([[ 0,  1],\n",
       "       [ 2,  3],\n",
       "       [ 4,  5],\n",
       "       [ 6,  7],\n",
       "       [ 8,  9],\n",
       "       [10, 11],\n",
       "       [12, 13],\n",
       "       [14, 15]])"
      ]
     },
     "execution_count": 16,
     "metadata": {},
     "output_type": "execute_result"
    }
   ],
   "source": [
    "## case 2\n",
    "arr = np.arange(16).reshape((8, 2))\n",
    "arr"
   ]
  },
  {
   "cell_type": "code",
   "execution_count": 17,
   "metadata": {
    "collapsed": false
   },
   "outputs": [
    {
     "data": {
      "text/plain": [
       "array([2, 7, 8])"
      ]
     },
     "execution_count": 17,
     "metadata": {},
     "output_type": "execute_result"
    }
   ],
   "source": [
    "# 此时如果传入多维数组\n",
    "# 相当于取值(1, 0), (3, 1), (4, 0)\n",
    "arr[[1,3,4], [0, 1, 0]]"
   ]
  },
  {
   "cell_type": "code",
   "execution_count": 19,
   "metadata": {
    "collapsed": false
   },
   "outputs": [
    {
     "data": {
      "text/plain": [
       "array([[2, 3, 2],\n",
       "       [6, 7, 6],\n",
       "       [8, 9, 8]])"
      ]
     },
     "execution_count": 19,
     "metadata": {},
     "output_type": "execute_result"
    }
   ],
   "source": [
    "# 如果需要类似case 1的结果：\n",
    "arr[[1,3,4]][:, [0,1,0]]"
   ]
  },
  {
   "cell_type": "markdown",
   "metadata": {},
   "source": [
    "### 利用数组进行数据处理"
   ]
  },
  {
   "cell_type": "markdown",
   "metadata": {},
   "source": [
    "#### 1. 比如`np.meshgrid()`函数，输入是两个1-D的数组，输出是2D的matrix："
   ]
  },
  {
   "cell_type": "code",
   "execution_count": 25,
   "metadata": {
    "collapsed": false
   },
   "outputs": [
    {
     "data": {
      "text/plain": [
       "array([[-5.  , -4.99, -4.98, ...,  4.97,  4.98,  4.99],\n",
       "       [-5.  , -4.99, -4.98, ...,  4.97,  4.98,  4.99],\n",
       "       [-5.  , -4.99, -4.98, ...,  4.97,  4.98,  4.99],\n",
       "       ..., \n",
       "       [-5.  , -4.99, -4.98, ...,  4.97,  4.98,  4.99],\n",
       "       [-5.  , -4.99, -4.98, ...,  4.97,  4.98,  4.99],\n",
       "       [-5.  , -4.99, -4.98, ...,  4.97,  4.98,  4.99]])"
      ]
     },
     "execution_count": 25,
     "metadata": {},
     "output_type": "execute_result"
    }
   ],
   "source": [
    "points = np.arange(-5, 5, 0.01)\n",
    "xs, ys = np.meshgrid(points, points)\n",
    "xs\n",
    "#ys"
   ]
  },
  {
   "cell_type": "markdown",
   "metadata": {},
   "source": [
    "比如我们需要$z = \\sqrt{x^2 + y^2}$:"
   ]
  },
  {
   "cell_type": "code",
   "execution_count": 26,
   "metadata": {
    "collapsed": false
   },
   "outputs": [
    {
     "data": {
      "text/plain": [
       "array([[ 7.07106781,  7.06400028,  7.05693985, ...,  7.04988652,\n",
       "         7.05693985,  7.06400028],\n",
       "       [ 7.06400028,  7.05692568,  7.04985815, ...,  7.04279774,\n",
       "         7.04985815,  7.05692568],\n",
       "       [ 7.05693985,  7.04985815,  7.04278354, ...,  7.03571603,\n",
       "         7.04278354,  7.04985815],\n",
       "       ..., \n",
       "       [ 7.04988652,  7.04279774,  7.03571603, ...,  7.0286414 ,\n",
       "         7.03571603,  7.04279774],\n",
       "       [ 7.05693985,  7.04985815,  7.04278354, ...,  7.03571603,\n",
       "         7.04278354,  7.04985815],\n",
       "       [ 7.06400028,  7.05692568,  7.04985815, ...,  7.04279774,\n",
       "         7.04985815,  7.05692568]])"
      ]
     },
     "execution_count": 26,
     "metadata": {},
     "output_type": "execute_result"
    }
   ],
   "source": [
    "import matplotlib.pyplot as plt\n",
    "z = np.sqrt(xs ** 2 + ys ** 2)\n",
    "z"
   ]
  },
  {
   "cell_type": "code",
   "execution_count": 28,
   "metadata": {
    "collapsed": false
   },
   "outputs": [
    {
     "data": {
      "image/png": "[encoded data removed]",
      "text/plain": [
       "<matplotlib.figure.Figure at 0x108825690>"
      ]
     },
     "metadata": {},
     "output_type": "display_data"
    }
   ],
   "source": [
    "plt.imshow(z, cmap=plt.cm.gray); plt.colorbar()\n",
    "plt.title(\"Image plot of $\\sqrt{x^2 + y^2}$ for a grid of values\")\n",
    "plt.show()"
   ]
  },
  {
   "cell_type": "markdown",
   "metadata": {},
   "source": [
    "#### 2. 利用条件逻辑进行数组运算"
   ]
  },
  {
   "cell_type": "markdown",
   "metadata": {},
   "source": [
    "比如我们有如下两个数组，`xarr`和`yarr`，条件数组`cond`，根据`cond`为True返回`xarr`的数值，否则`yarr`的数值："
   ]
  },
  {
   "cell_type": "code",
   "execution_count": 30,
   "metadata": {
    "collapsed": true
   },
   "outputs": [],
   "source": [
    "xarr = np.array([1.1, 1.2, 1.3, 1.4, 1.5])\n",
    "yarr = np.array([2.1, 2.2, 2.3, 2.4, 2.5])\n",
    "cond = np.array([True, False, True, True, False])"
   ]
  },
  {
   "cell_type": "markdown",
   "metadata": {},
   "source": [
    "如果我们用正常pythonic的方法来实现："
   ]
  },
  {
   "cell_type": "code",
   "execution_count": 33,
   "metadata": {
    "collapsed": false
   },
   "outputs": [
    {
     "data": {
      "text/plain": [
       "[1.1000000000000001, 2.2000000000000002, 1.3, 1.3999999999999999, 2.5]"
      ]
     },
     "execution_count": 33,
     "metadata": {},
     "output_type": "execute_result"
    }
   ],
   "source": [
    "res = [(x if c else y)\n",
    "      for x, y, c in zip(xarr, yarr, cond)]\n",
    "res"
   ]
  },
  {
   "cell_type": "markdown",
   "metadata": {},
   "source": [
    "这样写的问题是：1. 如果数组很大，速度很慢；2. 对于多维数组无法work  \n",
    "\n",
    "如果使用条件逻辑："
   ]
  },
  {
   "cell_type": "code",
   "execution_count": 34,
   "metadata": {
    "collapsed": false
   },
   "outputs": [
    {
     "data": {
      "text/plain": [
       "array([ 1.1,  2.2,  1.3,  1.4,  2.5])"
      ]
     },
     "execution_count": 34,
     "metadata": {},
     "output_type": "execute_result"
    }
   ],
   "source": [
    "res = np.where(cond, xarr, yarr)\n",
    "res"
   ]
  },
  {
   "cell_type": "code",
   "execution_count": 36,
   "metadata": {
    "collapsed": false
   },
   "outputs": [],
   "source": [
    "def cond_py(xarr, yarr, cond):\n",
    "    res = [(x if c else y)\n",
    "      for x, y, c in zip(xarr, yarr, cond)]\n",
    "def cond_np(xarr, yarr, cond):\n",
    "    res = np.where(cond, xarr, yarr)"
   ]
  },
  {
   "cell_type": "code",
   "execution_count": 37,
   "metadata": {
    "collapsed": false
   },
   "outputs": [
    {
     "name": "stdout",
     "output_type": "stream",
     "text": [
      "The slowest run took 5.25 times longer than the fastest. This could mean that an intermediate result is being cached.\n",
      "100000 loops, best of 3: 3.99 µs per loop\n"
     ]
    }
   ],
   "source": [
    "%timeit cond_py(xarr, yarr, cond)"
   ]
  },
  {
   "cell_type": "code",
   "execution_count": 38,
   "metadata": {
    "collapsed": false
   },
   "outputs": [
    {
     "name": "stdout",
     "output_type": "stream",
     "text": [
      "The slowest run took 14.73 times longer than the fastest. This could mean that an intermediate result is being cached.\n",
      "100000 loops, best of 3: 1.49 µs per loop\n"
     ]
    }
   ],
   "source": [
    "%timeit cond_np(xarr, yarr, cond)"
   ]
  },
  {
   "cell_type": "markdown",
   "metadata": {},
   "source": [
    "从上述时间比较可以看出，numpy的condition速度上较纯python快一倍多。\n",
    "\n",
    "那么这个在实际数据分析中有什么用呢？比如有一个矩阵，对其中某些元素大于某个特定数值，我们进行特别处理（比如用某个数值替代）："
   ]
  },
  {
   "cell_type": "code",
   "execution_count": 49,
   "metadata": {
    "collapsed": false
   },
   "outputs": [
    {
     "data": {
      "text/plain": [
       "array([[-0.63734784, -0.42006062,  0.30478701,  1.47740513],\n",
       "       [-2.24384147, -1.14078646, -1.60464155,  2.81396943],\n",
       "       [ 1.30560085,  0.05068352,  0.31349779, -0.00391782],\n",
       "       [-0.01236318,  0.20803011, -0.16725316, -0.01176084]])"
      ]
     },
     "execution_count": 49,
     "metadata": {},
     "output_type": "execute_result"
    }
   ],
   "source": [
    "arr = np.random.randn(4, 4)\n",
    "arr"
   ]
  },
  {
   "cell_type": "code",
   "execution_count": 50,
   "metadata": {
    "collapsed": false
   },
   "outputs": [
    {
     "data": {
      "text/plain": [
       "array([[-2, -2,  2,  2],\n",
       "       [-2, -2, -2,  2],\n",
       "       [ 2,  2,  2, -2],\n",
       "       [-2,  2, -2, -2]])"
      ]
     },
     "execution_count": 50,
     "metadata": {},
     "output_type": "execute_result"
    }
   ],
   "source": [
    "# 如果元素>0, 那么赋值为2，否则-2\n",
    "np.where(arr > 0, 2, -2)"
   ]
  },
  {
   "cell_type": "code",
   "execution_count": 52,
   "metadata": {
    "collapsed": false
   },
   "outputs": [
    {
     "data": {
      "text/plain": [
       "array([[-0.63734784, -0.42006062,  2.        ,  2.        ],\n",
       "       [-2.24384147, -1.14078646, -1.60464155,  2.        ],\n",
       "       [ 2.        ,  2.        ,  2.        , -0.00391782],\n",
       "       [-0.01236318,  2.        , -0.16725316, -0.01176084]])"
      ]
     },
     "execution_count": 52,
     "metadata": {},
     "output_type": "execute_result"
    }
   ],
   "source": [
    "# 也可以保留数组不动\n",
    "np.where(arr > 0, 2, arr) # set only positive values to 2"
   ]
  },
  {
   "cell_type": "markdown",
   "metadata": {},
   "source": [
    "### 线性代数相关"
   ]
  },
  {
   "cell_type": "markdown",
   "metadata": {},
   "source": [
    "和MATLAB等语法不同，如果使用`*`，表示element-wise乘法而不是矩阵的相乘。如果需要矩阵乘法，那么可以使用数组的方法`dot()`或者`np.dot()`:"
   ]
  },
  {
   "cell_type": "code",
   "execution_count": 53,
   "metadata": {
    "collapsed": true
   },
   "outputs": [],
   "source": [
    "x = np.array([[1., 2., 3.], [4., 5., 6.]])\n",
    "y = np.array([[6., 23.], [-1, 7], [8, 9]])"
   ]
  },
  {
   "cell_type": "code",
   "execution_count": 56,
   "metadata": {
    "collapsed": false
   },
   "outputs": [
    {
     "data": {
      "text/plain": [
       "array([[  28.,   64.],\n",
       "       [  67.,  181.]])"
      ]
     },
     "execution_count": 56,
     "metadata": {},
     "output_type": "execute_result"
    }
   ],
   "source": [
    "x.dot(y) "
   ]
  },
  {
   "cell_type": "code",
   "execution_count": 57,
   "metadata": {
    "collapsed": false
   },
   "outputs": [
    {
     "data": {
      "text/plain": [
       "array([[  28.,   64.],\n",
       "       [  67.,  181.]])"
      ]
     },
     "execution_count": 57,
     "metadata": {},
     "output_type": "execute_result"
    }
   ],
   "source": [
    "np.dot(x, y)"
   ]
  },
  {
   "cell_type": "markdown",
   "metadata": {},
   "source": [
    "这里重点介绍`np.linalg`，包含了矩阵求逆，行列式等的计算。底层的实现是和其他诸如MATLAB相似的Fortran库函数。"
   ]
  },
  {
   "cell_type": "code",
   "execution_count": 58,
   "metadata": {
    "collapsed": true
   },
   "outputs": [],
   "source": [
    "from numpy.linalg import inv, qr"
   ]
  },
  {
   "cell_type": "code",
   "execution_count": 61,
   "metadata": {
    "collapsed": false
   },
   "outputs": [
    {
     "data": {
      "text/plain": [
       "array([[  1.00000000e+00,  -3.18137007e-17,  -3.89086936e-15,\n",
       "          7.79767264e-16,   0.00000000e+00],\n",
       "       [  3.17636491e-17,   1.00000000e+00,   5.53559018e-16,\n",
       "          2.66335897e-16,   0.00000000e+00],\n",
       "       [  4.70509047e-17,  -3.06346868e-16,   1.00000000e+00,\n",
       "         -4.32099494e-17,   0.00000000e+00],\n",
       "       [ -1.54966698e-16,   5.11955748e-16,   2.10468540e-16,\n",
       "          1.00000000e+00,   0.00000000e+00],\n",
       "       [ -1.11022302e-16,  -2.22044605e-16,   1.66533454e-16,\n",
       "          5.55111512e-16,   1.00000000e+00]])"
      ]
     },
     "execution_count": 61,
     "metadata": {},
     "output_type": "execute_result"
    }
   ],
   "source": [
    "X = np.random.randn(5, 5)\n",
    "mat = X.T.dot(X)\n",
    "\n",
    "inv(mat).dot(mat)"
   ]
  },
  {
   "cell_type": "code",
   "execution_count": 63,
   "metadata": {
    "collapsed": false
   },
   "outputs": [],
   "source": [
    "qr?"
   ]
  },
  {
   "cell_type": "code",
   "execution_count": null,
   "metadata": {
    "collapsed": true
   },
   "outputs": [],
   "source": []
  }
 ],
 "metadata": {
  "kernelspec": {
   "display_name": "Python 2",
   "language": "python",
   "name": "python2"
  },
  "language_info": {
   "codemirror_mode": {
    "name": "ipython",
    "version": 2
   },
   "file_extension": ".py",
   "mimetype": "text/x-python",
   "name": "python",
   "nbconvert_exporter": "python",
   "pygments_lexer": "ipython2",
   "version": "2.7.13"
  }
 },
 "nbformat": 4,
 "nbformat_minor": 2
}
