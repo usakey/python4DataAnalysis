{
 "cells": [
  {
   "cell_type": "markdown",
   "metadata": {},
   "source": [
    "### 为什么使用python\n",
    "1. Python作为一种“胶水语言（glue language）”  \n",
    "代码里大量的代码作为胶水语言，不会长时间运行，同时胶水语言的运行时间很多情况下是不重要的。因为程序性能瓶颈相关的代码常常会通过low-level的代码诸如C来实现。\n",
    "1. 两种语言  \n",
    "很多机构里研究使用诸如matlab或者R这样的语言，但是生产环境需要使用诸如Java，C++或者C#之类的高级语言。\n",
    "1. python有哪些无法做到  \n",
    "  * 因为Python是一种解释型语言，通常来说，性能会较编译型语言弱。因此很多时候需要在programmer time和CPU time之间做一个tradeoff。诸如高频交易一般不会直接选择Python来进行系统程序的编写。\n",
    "  * 同时Python不适合需要高并发，多线程的场景。因为GIL（global intepreter lock）的机制，Python的解释器无法同时执行超过一个的Python字节码指令。当然并不是说Python完全无法用在多线程场景，只是在单python进程里进行多线程指令的运行。"
   ]
  },
  {
   "cell_type": "markdown",
   "metadata": {},
   "source": [
    "## 一些Python库"
   ]
  },
  {
   "cell_type": "markdown",
   "metadata": {},
   "source": [
    "### 1. NumPy\n",
    "它包含：\n",
    "1. 一种快速高效的数组数据结构：ndarray  \n",
    "1. 高效的数组元素间运算  \n",
    "1. 高效的读写数组到磁盘的工具  \n",
    "1. 高效的线性代数操作  \n",
    "1. 一些可以和C++等高级语言整合在一起的工具"
   ]
  },
  {
   "cell_type": "markdown",
   "metadata": {},
   "source": [
    "### 2. pandas\n",
    "更多的是针对结构化数据操作，可以认为它结合了numpy的高效数组计算特性和结构化数据库的数据处理灵活性。pandas中最主要的数据结构是**DataFrame**，可以认为是一个二维的表格，包含行列的列导向的数据结构。\n",
    "\n",
    "这里的DataFrame和R中的`data.frame`和相似，可以认为R中的`data.frame`是pandas中的`DataFrame`的一个子集。"
   ]
  },
  {
   "cell_type": "markdown",
   "metadata": {},
   "source": [
    "### 3. matplotlib\n",
    "### 4. IPython"
   ]
  },
  {
   "cell_type": "markdown",
   "metadata": {},
   "source": [
    "### 5. scipy\n",
    "提供了一整套科学计算库，包含但不限于：\n",
    "1. `scipy.integrate`\n",
    "1. `scipy.linalg`\n",
    "1. `scipy.optimize`\n",
    "1. `scipy.sparse`\n",
    "1. `scipy.stats`"
   ]
  },
  {
   "cell_type": "code",
   "execution_count": null,
   "metadata": {
    "collapsed": true
   },
   "outputs": [],
   "source": []
  }
 ],
 "metadata": {
  "kernelspec": {
   "display_name": "Python 2",
   "language": "python",
   "name": "python2"
  },
  "language_info": {
   "codemirror_mode": {
    "name": "ipython",
    "version": 2
   },
   "file_extension": ".py",
   "mimetype": "text/x-python",
   "name": "python",
   "nbconvert_exporter": "python",
   "pygments_lexer": "ipython2",
   "version": "2.7.13"
  }
 },
 "nbformat": 4,
 "nbformat_minor": 2
}
